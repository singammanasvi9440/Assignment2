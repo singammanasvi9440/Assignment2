{
  "nbformat": 4,
  "nbformat_minor": 0,
  "metadata": {
    "colab": {
      "provenance": [],
      "authorship_tag": "ABX9TyPAwXdC9fZ6Rc9h41J+abbQ",
      "include_colab_link": true
    },
    "kernelspec": {
      "name": "python3",
      "display_name": "Python 3"
    },
    "language_info": {
      "name": "python"
    }
  },
  "cells": [
    {
      "cell_type": "markdown",
      "metadata": {
        "id": "view-in-github",
        "colab_type": "text"
      },
      "source": [
        "<a href=\"https://colab.research.google.com/github/singammanasvi9440/Assignment2/blob/main/ML_Assignment2.ipynb\" target=\"_parent\"><img src=\"https://colab.research.google.com/assets/colab-badge.svg\" alt=\"Open In Colab\"/></a>"
      ]
    },
    {
      "cell_type": "code",
      "source": [
        "#1\n",
        "for i in range(1,6):\n",
        "  for j in range(1,i):\n",
        "    print(\"*\",end=' ')\n",
        "  print(\"\\r\")\n",
        "for i in range(6,1,-1):\n",
        "  for j in range(1,i):\n",
        "    print(\"*\",end=' ')\n",
        "  print(\"\\r\")"
      ],
      "metadata": {
        "id": "iSAySvaFl-0S",
        "colab": {
          "base_uri": "https://localhost:8080/"
        },
        "outputId": "bd6aa373-ed81-4fdd-e550-5aaa0f700eea"
      },
      "execution_count": 28,
      "outputs": [
        {
          "output_type": "stream",
          "name": "stdout",
          "text": [
            "\r\n",
            "* \r\n",
            "* * \r\n",
            "* * * \r\n",
            "* * * * \r\n",
            "* * * * * \r\n",
            "* * * * \r\n",
            "* * * \r\n",
            "* * \r\n",
            "* \r\n"
          ]
        }
      ]
    },
    {
      "cell_type": "code",
      "source": [
        "#2\n",
        "my_list = [10, 20, 30, 40, 50, 60, 70, 80, 90, 100]\n",
        "n=len(my_list)\n",
        "for i in range(0,n):\n",
        "  if i%2!=0:\n",
        "    print(my_list[i])\n"
      ],
      "metadata": {
        "colab": {
          "base_uri": "https://localhost:8080/"
        },
        "id": "kpqjYiLJ77xw",
        "outputId": "1361d3c7-eaca-4c5c-e095-3924e63f4b6e"
      },
      "execution_count": 23,
      "outputs": [
        {
          "output_type": "stream",
          "name": "stdout",
          "text": [
            "20\n",
            "40\n",
            "60\n",
            "80\n",
            "100\n"
          ]
        }
      ]
    },
    {
      "cell_type": "code",
      "source": [
        "#3\n",
        "x = [23,'python',23.98]\n",
        "n=len(x)\n",
        "\n",
        "types=[]\n",
        "for i in x:\n",
        "  types.append(type(i))\n",
        "print(x)\n",
        "print(types)"
      ],
      "metadata": {
        "colab": {
          "base_uri": "https://localhost:8080/"
        },
        "id": "GFK1AVyK2pNC",
        "outputId": "1e9e3b22-47d7-400f-b2b6-77087539f106"
      },
      "execution_count": 12,
      "outputs": [
        {
          "output_type": "stream",
          "name": "stdout",
          "text": [
            "[23, 'python', 23.98]\n",
            "[<class 'int'>, <class 'str'>, <class 'float'>]\n"
          ]
        }
      ]
    },
    {
      "cell_type": "code",
      "source": [
        "#4\n",
        "import numpy as np \n",
        "Sample_List=[1,2,3,3,3,3,4,5]\n",
        "a=np.unique(Sample_List) \n",
        "print(Sample_List)\n",
        "print(a) "
      ],
      "metadata": {
        "colab": {
          "base_uri": "https://localhost:8080/"
        },
        "id": "-v_7HDxc36fL",
        "outputId": "f7b558c2-2cd7-44c0-8a4b-ba56c2b2f7ec"
      },
      "execution_count": 29,
      "outputs": [
        {
          "output_type": "stream",
          "name": "stdout",
          "text": [
            "[1, 2, 3, 3, 3, 3, 4, 5]\n",
            "[1 2 3 4 5]\n"
          ]
        }
      ]
    },
    {
      "cell_type": "code",
      "source": [
        "#5\n",
        "def count_char(string):\n",
        "  upper_char=0\n",
        "  lower_char=0\n",
        "  for char in string:\n",
        "    if char.isupper():\n",
        "      upper_char+=1\n",
        "    elif char.islower():\n",
        "      lower_char+=1\n",
        "  return upper_char,lower_char\n",
        "\n",
        "input_string='The quick Brow Fox'\n",
        "upper_char,lower_char=count_char(input_string)\n",
        "print('No. of Upper-case characters:',upper_char)\n",
        "print('No. of Upper-case characters:',lower_char)\n"
      ],
      "metadata": {
        "colab": {
          "base_uri": "https://localhost:8080/"
        },
        "id": "-qT1EFPY5JlR",
        "outputId": "c6bfe4b4-398b-4749-a28f-445dd72b4950"
      },
      "execution_count": 22,
      "outputs": [
        {
          "output_type": "stream",
          "name": "stdout",
          "text": [
            "No. of Upper-case characters: 3\n",
            "No. of Upper-case characters: 12\n"
          ]
        }
      ]
    },
    {
      "cell_type": "code",
      "source": [],
      "metadata": {
        "id": "Pu3PveFy6SbD"
      },
      "execution_count": null,
      "outputs": []
    }
  ]
}